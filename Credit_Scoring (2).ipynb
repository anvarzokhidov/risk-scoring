{
  "nbformat": 4,
  "nbformat_minor": 0,
  "metadata": {
    "colab": {
      "provenance": []
    },
    "kernelspec": {
      "name": "python3",
      "display_name": "Python 3"
    },
    "language_info": {
      "name": "python"
    }
  },
  "cells": [
    {
      "cell_type": "code",
      "execution_count": 356,
      "metadata": {
        "id": "jc7CzOwF5oo7"
      },
      "outputs": [],
      "source": [
        "import numpy as np\n",
        "import pandas as pd\n",
        "from sklearn.model_selection import train_test_split\n",
        "from sklearn.preprocessing import StandardScaler\n",
        "from sklearn.metrics import classification_report, confusion_matrix, accuracy_score, f1_score\n",
        "from sklearn.linear_model import LogisticRegression\n",
        "import joblib\n",
        "from sklearn.ensemble import RandomForestClassifier\n",
        "from sklearn.svm import SVC\n",
        "from xgboost import XGBClassifier\n",
        "import seaborn as sns\n",
        "import matplotlib.pyplot as plt"
      ]
    },
    {
      "cell_type": "code",
      "source": [
        "dataset = pd.read_excel('Dataset_CreditScoring.xlsx')\n",
        "dataset.head()"
      ],
      "metadata": {
        "colab": {
          "base_uri": "https://localhost:8080/",
          "height": 255
        },
        "id": "fOpYgNAe66d8",
        "outputId": "90e46a5c-a855-4d0b-af9c-b4313510dd53"
      },
      "execution_count": 357,
      "outputs": [
        {
          "output_type": "execute_result",
          "data": {
            "text/plain": [
              "   TARGET    ID  DerogCnt  CollectCnt  BanruptcyInd  InqCnt06  InqTimeLast  \\\n",
              "0       1   582         3           3             0         4          0.0   \n",
              "1       1   662        15           9             0         3          1.0   \n",
              "2       1   805         0           0             0         1          5.0   \n",
              "3       1  1175         8           5             0         6          1.0   \n",
              "4       1  1373         3           1             0         9          0.0   \n",
              "\n",
              "   InqFinanceCnt24  TLTimeFirst  TLTimeLast  ...  TL50UtilCnt  TLBalHCPct  \\\n",
              "0                5          117          27  ...          3.0      0.9179   \n",
              "1                3           14          14  ...          1.0      0.8000   \n",
              "2                1          354           7  ...          5.0      0.3552   \n",
              "3               10           16           4  ...          3.0      0.9127   \n",
              "4                8          130          52  ...          1.0      1.2511   \n",
              "\n",
              "   TLSatPct  TLDel3060Cnt24  TLDel90Cnt24  TLDel60CntAll  TLOpenPct  \\\n",
              "0    0.2083               2             3              7     0.2083   \n",
              "1    0.0000               0             0              0     1.0000   \n",
              "2    0.6538               0             1              1     0.7308   \n",
              "3    0.2500               1             1              1     0.7500   \n",
              "4    0.0000               0             1              4     0.1429   \n",
              "\n",
              "   TLBadDerogCnt  TLDel60Cnt24  TLOpen24Pct  \n",
              "0              4             4       0.0000  \n",
              "1             12             0       1.0000  \n",
              "2              1             1       0.5263  \n",
              "3              7             1       1.3333  \n",
              "4              3             1       0.0000  \n",
              "\n",
              "[5 rows x 30 columns]"
            ],
            "text/html": [
              "\n",
              "  <div id=\"df-bff33146-0a57-4f69-89df-4d9767e276fc\" class=\"colab-df-container\">\n",
              "    <div>\n",
              "<style scoped>\n",
              "    .dataframe tbody tr th:only-of-type {\n",
              "        vertical-align: middle;\n",
              "    }\n",
              "\n",
              "    .dataframe tbody tr th {\n",
              "        vertical-align: top;\n",
              "    }\n",
              "\n",
              "    .dataframe thead th {\n",
              "        text-align: right;\n",
              "    }\n",
              "</style>\n",
              "<table border=\"1\" class=\"dataframe\">\n",
              "  <thead>\n",
              "    <tr style=\"text-align: right;\">\n",
              "      <th></th>\n",
              "      <th>TARGET</th>\n",
              "      <th>ID</th>\n",
              "      <th>DerogCnt</th>\n",
              "      <th>CollectCnt</th>\n",
              "      <th>BanruptcyInd</th>\n",
              "      <th>InqCnt06</th>\n",
              "      <th>InqTimeLast</th>\n",
              "      <th>InqFinanceCnt24</th>\n",
              "      <th>TLTimeFirst</th>\n",
              "      <th>TLTimeLast</th>\n",
              "      <th>...</th>\n",
              "      <th>TL50UtilCnt</th>\n",
              "      <th>TLBalHCPct</th>\n",
              "      <th>TLSatPct</th>\n",
              "      <th>TLDel3060Cnt24</th>\n",
              "      <th>TLDel90Cnt24</th>\n",
              "      <th>TLDel60CntAll</th>\n",
              "      <th>TLOpenPct</th>\n",
              "      <th>TLBadDerogCnt</th>\n",
              "      <th>TLDel60Cnt24</th>\n",
              "      <th>TLOpen24Pct</th>\n",
              "    </tr>\n",
              "  </thead>\n",
              "  <tbody>\n",
              "    <tr>\n",
              "      <th>0</th>\n",
              "      <td>1</td>\n",
              "      <td>582</td>\n",
              "      <td>3</td>\n",
              "      <td>3</td>\n",
              "      <td>0</td>\n",
              "      <td>4</td>\n",
              "      <td>0.0</td>\n",
              "      <td>5</td>\n",
              "      <td>117</td>\n",
              "      <td>27</td>\n",
              "      <td>...</td>\n",
              "      <td>3.0</td>\n",
              "      <td>0.9179</td>\n",
              "      <td>0.2083</td>\n",
              "      <td>2</td>\n",
              "      <td>3</td>\n",
              "      <td>7</td>\n",
              "      <td>0.2083</td>\n",
              "      <td>4</td>\n",
              "      <td>4</td>\n",
              "      <td>0.0000</td>\n",
              "    </tr>\n",
              "    <tr>\n",
              "      <th>1</th>\n",
              "      <td>1</td>\n",
              "      <td>662</td>\n",
              "      <td>15</td>\n",
              "      <td>9</td>\n",
              "      <td>0</td>\n",
              "      <td>3</td>\n",
              "      <td>1.0</td>\n",
              "      <td>3</td>\n",
              "      <td>14</td>\n",
              "      <td>14</td>\n",
              "      <td>...</td>\n",
              "      <td>1.0</td>\n",
              "      <td>0.8000</td>\n",
              "      <td>0.0000</td>\n",
              "      <td>0</td>\n",
              "      <td>0</td>\n",
              "      <td>0</td>\n",
              "      <td>1.0000</td>\n",
              "      <td>12</td>\n",
              "      <td>0</td>\n",
              "      <td>1.0000</td>\n",
              "    </tr>\n",
              "    <tr>\n",
              "      <th>2</th>\n",
              "      <td>1</td>\n",
              "      <td>805</td>\n",
              "      <td>0</td>\n",
              "      <td>0</td>\n",
              "      <td>0</td>\n",
              "      <td>1</td>\n",
              "      <td>5.0</td>\n",
              "      <td>1</td>\n",
              "      <td>354</td>\n",
              "      <td>7</td>\n",
              "      <td>...</td>\n",
              "      <td>5.0</td>\n",
              "      <td>0.3552</td>\n",
              "      <td>0.6538</td>\n",
              "      <td>0</td>\n",
              "      <td>1</td>\n",
              "      <td>1</td>\n",
              "      <td>0.7308</td>\n",
              "      <td>1</td>\n",
              "      <td>1</td>\n",
              "      <td>0.5263</td>\n",
              "    </tr>\n",
              "    <tr>\n",
              "      <th>3</th>\n",
              "      <td>1</td>\n",
              "      <td>1175</td>\n",
              "      <td>8</td>\n",
              "      <td>5</td>\n",
              "      <td>0</td>\n",
              "      <td>6</td>\n",
              "      <td>1.0</td>\n",
              "      <td>10</td>\n",
              "      <td>16</td>\n",
              "      <td>4</td>\n",
              "      <td>...</td>\n",
              "      <td>3.0</td>\n",
              "      <td>0.9127</td>\n",
              "      <td>0.2500</td>\n",
              "      <td>1</td>\n",
              "      <td>1</td>\n",
              "      <td>1</td>\n",
              "      <td>0.7500</td>\n",
              "      <td>7</td>\n",
              "      <td>1</td>\n",
              "      <td>1.3333</td>\n",
              "    </tr>\n",
              "    <tr>\n",
              "      <th>4</th>\n",
              "      <td>1</td>\n",
              "      <td>1373</td>\n",
              "      <td>3</td>\n",
              "      <td>1</td>\n",
              "      <td>0</td>\n",
              "      <td>9</td>\n",
              "      <td>0.0</td>\n",
              "      <td>8</td>\n",
              "      <td>130</td>\n",
              "      <td>52</td>\n",
              "      <td>...</td>\n",
              "      <td>1.0</td>\n",
              "      <td>1.2511</td>\n",
              "      <td>0.0000</td>\n",
              "      <td>0</td>\n",
              "      <td>1</td>\n",
              "      <td>4</td>\n",
              "      <td>0.1429</td>\n",
              "      <td>3</td>\n",
              "      <td>1</td>\n",
              "      <td>0.0000</td>\n",
              "    </tr>\n",
              "  </tbody>\n",
              "</table>\n",
              "<p>5 rows × 30 columns</p>\n",
              "</div>\n",
              "    <div class=\"colab-df-buttons\">\n",
              "\n",
              "  <div class=\"colab-df-container\">\n",
              "    <button class=\"colab-df-convert\" onclick=\"convertToInteractive('df-bff33146-0a57-4f69-89df-4d9767e276fc')\"\n",
              "            title=\"Convert this dataframe to an interactive table.\"\n",
              "            style=\"display:none;\">\n",
              "\n",
              "  <svg xmlns=\"http://www.w3.org/2000/svg\" height=\"24px\" viewBox=\"0 -960 960 960\">\n",
              "    <path d=\"M120-120v-720h720v720H120Zm60-500h600v-160H180v160Zm220 220h160v-160H400v160Zm0 220h160v-160H400v160ZM180-400h160v-160H180v160Zm440 0h160v-160H620v160ZM180-180h160v-160H180v160Zm440 0h160v-160H620v160Z\"/>\n",
              "  </svg>\n",
              "    </button>\n",
              "\n",
              "  <style>\n",
              "    .colab-df-container {\n",
              "      display:flex;\n",
              "      gap: 12px;\n",
              "    }\n",
              "\n",
              "    .colab-df-convert {\n",
              "      background-color: #E8F0FE;\n",
              "      border: none;\n",
              "      border-radius: 50%;\n",
              "      cursor: pointer;\n",
              "      display: none;\n",
              "      fill: #1967D2;\n",
              "      height: 32px;\n",
              "      padding: 0 0 0 0;\n",
              "      width: 32px;\n",
              "    }\n",
              "\n",
              "    .colab-df-convert:hover {\n",
              "      background-color: #E2EBFA;\n",
              "      box-shadow: 0px 1px 2px rgba(60, 64, 67, 0.3), 0px 1px 3px 1px rgba(60, 64, 67, 0.15);\n",
              "      fill: #174EA6;\n",
              "    }\n",
              "\n",
              "    .colab-df-buttons div {\n",
              "      margin-bottom: 4px;\n",
              "    }\n",
              "\n",
              "    [theme=dark] .colab-df-convert {\n",
              "      background-color: #3B4455;\n",
              "      fill: #D2E3FC;\n",
              "    }\n",
              "\n",
              "    [theme=dark] .colab-df-convert:hover {\n",
              "      background-color: #434B5C;\n",
              "      box-shadow: 0px 1px 3px 1px rgba(0, 0, 0, 0.15);\n",
              "      filter: drop-shadow(0px 1px 2px rgba(0, 0, 0, 0.3));\n",
              "      fill: #FFFFFF;\n",
              "    }\n",
              "  </style>\n",
              "\n",
              "    <script>\n",
              "      const buttonEl =\n",
              "        document.querySelector('#df-bff33146-0a57-4f69-89df-4d9767e276fc button.colab-df-convert');\n",
              "      buttonEl.style.display =\n",
              "        google.colab.kernel.accessAllowed ? 'block' : 'none';\n",
              "\n",
              "      async function convertToInteractive(key) {\n",
              "        const element = document.querySelector('#df-bff33146-0a57-4f69-89df-4d9767e276fc');\n",
              "        const dataTable =\n",
              "          await google.colab.kernel.invokeFunction('convertToInteractive',\n",
              "                                                    [key], {});\n",
              "        if (!dataTable) return;\n",
              "\n",
              "        const docLinkHtml = 'Like what you see? Visit the ' +\n",
              "          '<a target=\"_blank\" href=https://colab.research.google.com/notebooks/data_table.ipynb>data table notebook</a>'\n",
              "          + ' to learn more about interactive tables.';\n",
              "        element.innerHTML = '';\n",
              "        dataTable['output_type'] = 'display_data';\n",
              "        await google.colab.output.renderOutput(dataTable, element);\n",
              "        const docLink = document.createElement('div');\n",
              "        docLink.innerHTML = docLinkHtml;\n",
              "        element.appendChild(docLink);\n",
              "      }\n",
              "    </script>\n",
              "  </div>\n",
              "\n",
              "\n",
              "<div id=\"df-d83fef74-e7e0-4aac-b2b4-3b45336e6516\">\n",
              "  <button class=\"colab-df-quickchart\" onclick=\"quickchart('df-d83fef74-e7e0-4aac-b2b4-3b45336e6516')\"\n",
              "            title=\"Suggest charts\"\n",
              "            style=\"display:none;\">\n",
              "\n",
              "<svg xmlns=\"http://www.w3.org/2000/svg\" height=\"24px\"viewBox=\"0 0 24 24\"\n",
              "     width=\"24px\">\n",
              "    <g>\n",
              "        <path d=\"M19 3H5c-1.1 0-2 .9-2 2v14c0 1.1.9 2 2 2h14c1.1 0 2-.9 2-2V5c0-1.1-.9-2-2-2zM9 17H7v-7h2v7zm4 0h-2V7h2v10zm4 0h-2v-4h2v4z\"/>\n",
              "    </g>\n",
              "</svg>\n",
              "  </button>\n",
              "\n",
              "<style>\n",
              "  .colab-df-quickchart {\n",
              "      --bg-color: #E8F0FE;\n",
              "      --fill-color: #1967D2;\n",
              "      --hover-bg-color: #E2EBFA;\n",
              "      --hover-fill-color: #174EA6;\n",
              "      --disabled-fill-color: #AAA;\n",
              "      --disabled-bg-color: #DDD;\n",
              "  }\n",
              "\n",
              "  [theme=dark] .colab-df-quickchart {\n",
              "      --bg-color: #3B4455;\n",
              "      --fill-color: #D2E3FC;\n",
              "      --hover-bg-color: #434B5C;\n",
              "      --hover-fill-color: #FFFFFF;\n",
              "      --disabled-bg-color: #3B4455;\n",
              "      --disabled-fill-color: #666;\n",
              "  }\n",
              "\n",
              "  .colab-df-quickchart {\n",
              "    background-color: var(--bg-color);\n",
              "    border: none;\n",
              "    border-radius: 50%;\n",
              "    cursor: pointer;\n",
              "    display: none;\n",
              "    fill: var(--fill-color);\n",
              "    height: 32px;\n",
              "    padding: 0;\n",
              "    width: 32px;\n",
              "  }\n",
              "\n",
              "  .colab-df-quickchart:hover {\n",
              "    background-color: var(--hover-bg-color);\n",
              "    box-shadow: 0 1px 2px rgba(60, 64, 67, 0.3), 0 1px 3px 1px rgba(60, 64, 67, 0.15);\n",
              "    fill: var(--button-hover-fill-color);\n",
              "  }\n",
              "\n",
              "  .colab-df-quickchart-complete:disabled,\n",
              "  .colab-df-quickchart-complete:disabled:hover {\n",
              "    background-color: var(--disabled-bg-color);\n",
              "    fill: var(--disabled-fill-color);\n",
              "    box-shadow: none;\n",
              "  }\n",
              "\n",
              "  .colab-df-spinner {\n",
              "    border: 2px solid var(--fill-color);\n",
              "    border-color: transparent;\n",
              "    border-bottom-color: var(--fill-color);\n",
              "    animation:\n",
              "      spin 1s steps(1) infinite;\n",
              "  }\n",
              "\n",
              "  @keyframes spin {\n",
              "    0% {\n",
              "      border-color: transparent;\n",
              "      border-bottom-color: var(--fill-color);\n",
              "      border-left-color: var(--fill-color);\n",
              "    }\n",
              "    20% {\n",
              "      border-color: transparent;\n",
              "      border-left-color: var(--fill-color);\n",
              "      border-top-color: var(--fill-color);\n",
              "    }\n",
              "    30% {\n",
              "      border-color: transparent;\n",
              "      border-left-color: var(--fill-color);\n",
              "      border-top-color: var(--fill-color);\n",
              "      border-right-color: var(--fill-color);\n",
              "    }\n",
              "    40% {\n",
              "      border-color: transparent;\n",
              "      border-right-color: var(--fill-color);\n",
              "      border-top-color: var(--fill-color);\n",
              "    }\n",
              "    60% {\n",
              "      border-color: transparent;\n",
              "      border-right-color: var(--fill-color);\n",
              "    }\n",
              "    80% {\n",
              "      border-color: transparent;\n",
              "      border-right-color: var(--fill-color);\n",
              "      border-bottom-color: var(--fill-color);\n",
              "    }\n",
              "    90% {\n",
              "      border-color: transparent;\n",
              "      border-bottom-color: var(--fill-color);\n",
              "    }\n",
              "  }\n",
              "</style>\n",
              "\n",
              "  <script>\n",
              "    async function quickchart(key) {\n",
              "      const quickchartButtonEl =\n",
              "        document.querySelector('#' + key + ' button');\n",
              "      quickchartButtonEl.disabled = true;  // To prevent multiple clicks.\n",
              "      quickchartButtonEl.classList.add('colab-df-spinner');\n",
              "      try {\n",
              "        const charts = await google.colab.kernel.invokeFunction(\n",
              "            'suggestCharts', [key], {});\n",
              "      } catch (error) {\n",
              "        console.error('Error during call to suggestCharts:', error);\n",
              "      }\n",
              "      quickchartButtonEl.classList.remove('colab-df-spinner');\n",
              "      quickchartButtonEl.classList.add('colab-df-quickchart-complete');\n",
              "    }\n",
              "    (() => {\n",
              "      let quickchartButtonEl =\n",
              "        document.querySelector('#df-d83fef74-e7e0-4aac-b2b4-3b45336e6516 button');\n",
              "      quickchartButtonEl.style.display =\n",
              "        google.colab.kernel.accessAllowed ? 'block' : 'none';\n",
              "    })();\n",
              "  </script>\n",
              "</div>\n",
              "    </div>\n",
              "  </div>\n"
            ]
          },
          "metadata": {},
          "execution_count": 357
        }
      ]
    },
    {
      "cell_type": "code",
      "source": [
        "dataset.shape"
      ],
      "metadata": {
        "colab": {
          "base_uri": "https://localhost:8080/"
        },
        "id": "XNMP_aOn7Cuj",
        "outputId": "62792260-cdc9-4b7f-bbb8-aec6d8acd1f0"
      },
      "execution_count": 358,
      "outputs": [
        {
          "output_type": "execute_result",
          "data": {
            "text/plain": [
              "(3000, 30)"
            ]
          },
          "metadata": {},
          "execution_count": 358
        }
      ]
    },
    {
      "cell_type": "code",
      "source": [
        "dataset.drop('ID', axis=1, inplace=True)\n",
        "print(dataset.shape)\n",
        "dataset.head()"
      ],
      "metadata": {
        "colab": {
          "base_uri": "https://localhost:8080/",
          "height": 273
        },
        "id": "285WusReGh6z",
        "outputId": "b638fdc7-49b0-4103-cb57-43ea7cfcc330"
      },
      "execution_count": 359,
      "outputs": [
        {
          "output_type": "stream",
          "name": "stdout",
          "text": [
            "(3000, 29)\n"
          ]
        },
        {
          "output_type": "execute_result",
          "data": {
            "text/plain": [
              "   TARGET  DerogCnt  CollectCnt  BanruptcyInd  InqCnt06  InqTimeLast  \\\n",
              "0       1         3           3             0         4          0.0   \n",
              "1       1        15           9             0         3          1.0   \n",
              "2       1         0           0             0         1          5.0   \n",
              "3       1         8           5             0         6          1.0   \n",
              "4       1         3           1             0         9          0.0   \n",
              "\n",
              "   InqFinanceCnt24  TLTimeFirst  TLTimeLast  TLCnt03  ...  TL50UtilCnt  \\\n",
              "0                5          117          27        0  ...          3.0   \n",
              "1                3           14          14        0  ...          1.0   \n",
              "2                1          354           7        0  ...          5.0   \n",
              "3               10           16           4        0  ...          3.0   \n",
              "4                8          130          52        0  ...          1.0   \n",
              "\n",
              "   TLBalHCPct  TLSatPct  TLDel3060Cnt24  TLDel90Cnt24  TLDel60CntAll  \\\n",
              "0      0.9179    0.2083               2             3              7   \n",
              "1      0.8000    0.0000               0             0              0   \n",
              "2      0.3552    0.6538               0             1              1   \n",
              "3      0.9127    0.2500               1             1              1   \n",
              "4      1.2511    0.0000               0             1              4   \n",
              "\n",
              "   TLOpenPct  TLBadDerogCnt  TLDel60Cnt24  TLOpen24Pct  \n",
              "0     0.2083              4             4       0.0000  \n",
              "1     1.0000             12             0       1.0000  \n",
              "2     0.7308              1             1       0.5263  \n",
              "3     0.7500              7             1       1.3333  \n",
              "4     0.1429              3             1       0.0000  \n",
              "\n",
              "[5 rows x 29 columns]"
            ],
            "text/html": [
              "\n",
              "  <div id=\"df-2308a64d-af99-4eb0-9c46-726f16f93a90\" class=\"colab-df-container\">\n",
              "    <div>\n",
              "<style scoped>\n",
              "    .dataframe tbody tr th:only-of-type {\n",
              "        vertical-align: middle;\n",
              "    }\n",
              "\n",
              "    .dataframe tbody tr th {\n",
              "        vertical-align: top;\n",
              "    }\n",
              "\n",
              "    .dataframe thead th {\n",
              "        text-align: right;\n",
              "    }\n",
              "</style>\n",
              "<table border=\"1\" class=\"dataframe\">\n",
              "  <thead>\n",
              "    <tr style=\"text-align: right;\">\n",
              "      <th></th>\n",
              "      <th>TARGET</th>\n",
              "      <th>DerogCnt</th>\n",
              "      <th>CollectCnt</th>\n",
              "      <th>BanruptcyInd</th>\n",
              "      <th>InqCnt06</th>\n",
              "      <th>InqTimeLast</th>\n",
              "      <th>InqFinanceCnt24</th>\n",
              "      <th>TLTimeFirst</th>\n",
              "      <th>TLTimeLast</th>\n",
              "      <th>TLCnt03</th>\n",
              "      <th>...</th>\n",
              "      <th>TL50UtilCnt</th>\n",
              "      <th>TLBalHCPct</th>\n",
              "      <th>TLSatPct</th>\n",
              "      <th>TLDel3060Cnt24</th>\n",
              "      <th>TLDel90Cnt24</th>\n",
              "      <th>TLDel60CntAll</th>\n",
              "      <th>TLOpenPct</th>\n",
              "      <th>TLBadDerogCnt</th>\n",
              "      <th>TLDel60Cnt24</th>\n",
              "      <th>TLOpen24Pct</th>\n",
              "    </tr>\n",
              "  </thead>\n",
              "  <tbody>\n",
              "    <tr>\n",
              "      <th>0</th>\n",
              "      <td>1</td>\n",
              "      <td>3</td>\n",
              "      <td>3</td>\n",
              "      <td>0</td>\n",
              "      <td>4</td>\n",
              "      <td>0.0</td>\n",
              "      <td>5</td>\n",
              "      <td>117</td>\n",
              "      <td>27</td>\n",
              "      <td>0</td>\n",
              "      <td>...</td>\n",
              "      <td>3.0</td>\n",
              "      <td>0.9179</td>\n",
              "      <td>0.2083</td>\n",
              "      <td>2</td>\n",
              "      <td>3</td>\n",
              "      <td>7</td>\n",
              "      <td>0.2083</td>\n",
              "      <td>4</td>\n",
              "      <td>4</td>\n",
              "      <td>0.0000</td>\n",
              "    </tr>\n",
              "    <tr>\n",
              "      <th>1</th>\n",
              "      <td>1</td>\n",
              "      <td>15</td>\n",
              "      <td>9</td>\n",
              "      <td>0</td>\n",
              "      <td>3</td>\n",
              "      <td>1.0</td>\n",
              "      <td>3</td>\n",
              "      <td>14</td>\n",
              "      <td>14</td>\n",
              "      <td>0</td>\n",
              "      <td>...</td>\n",
              "      <td>1.0</td>\n",
              "      <td>0.8000</td>\n",
              "      <td>0.0000</td>\n",
              "      <td>0</td>\n",
              "      <td>0</td>\n",
              "      <td>0</td>\n",
              "      <td>1.0000</td>\n",
              "      <td>12</td>\n",
              "      <td>0</td>\n",
              "      <td>1.0000</td>\n",
              "    </tr>\n",
              "    <tr>\n",
              "      <th>2</th>\n",
              "      <td>1</td>\n",
              "      <td>0</td>\n",
              "      <td>0</td>\n",
              "      <td>0</td>\n",
              "      <td>1</td>\n",
              "      <td>5.0</td>\n",
              "      <td>1</td>\n",
              "      <td>354</td>\n",
              "      <td>7</td>\n",
              "      <td>0</td>\n",
              "      <td>...</td>\n",
              "      <td>5.0</td>\n",
              "      <td>0.3552</td>\n",
              "      <td>0.6538</td>\n",
              "      <td>0</td>\n",
              "      <td>1</td>\n",
              "      <td>1</td>\n",
              "      <td>0.7308</td>\n",
              "      <td>1</td>\n",
              "      <td>1</td>\n",
              "      <td>0.5263</td>\n",
              "    </tr>\n",
              "    <tr>\n",
              "      <th>3</th>\n",
              "      <td>1</td>\n",
              "      <td>8</td>\n",
              "      <td>5</td>\n",
              "      <td>0</td>\n",
              "      <td>6</td>\n",
              "      <td>1.0</td>\n",
              "      <td>10</td>\n",
              "      <td>16</td>\n",
              "      <td>4</td>\n",
              "      <td>0</td>\n",
              "      <td>...</td>\n",
              "      <td>3.0</td>\n",
              "      <td>0.9127</td>\n",
              "      <td>0.2500</td>\n",
              "      <td>1</td>\n",
              "      <td>1</td>\n",
              "      <td>1</td>\n",
              "      <td>0.7500</td>\n",
              "      <td>7</td>\n",
              "      <td>1</td>\n",
              "      <td>1.3333</td>\n",
              "    </tr>\n",
              "    <tr>\n",
              "      <th>4</th>\n",
              "      <td>1</td>\n",
              "      <td>3</td>\n",
              "      <td>1</td>\n",
              "      <td>0</td>\n",
              "      <td>9</td>\n",
              "      <td>0.0</td>\n",
              "      <td>8</td>\n",
              "      <td>130</td>\n",
              "      <td>52</td>\n",
              "      <td>0</td>\n",
              "      <td>...</td>\n",
              "      <td>1.0</td>\n",
              "      <td>1.2511</td>\n",
              "      <td>0.0000</td>\n",
              "      <td>0</td>\n",
              "      <td>1</td>\n",
              "      <td>4</td>\n",
              "      <td>0.1429</td>\n",
              "      <td>3</td>\n",
              "      <td>1</td>\n",
              "      <td>0.0000</td>\n",
              "    </tr>\n",
              "  </tbody>\n",
              "</table>\n",
              "<p>5 rows × 29 columns</p>\n",
              "</div>\n",
              "    <div class=\"colab-df-buttons\">\n",
              "\n",
              "  <div class=\"colab-df-container\">\n",
              "    <button class=\"colab-df-convert\" onclick=\"convertToInteractive('df-2308a64d-af99-4eb0-9c46-726f16f93a90')\"\n",
              "            title=\"Convert this dataframe to an interactive table.\"\n",
              "            style=\"display:none;\">\n",
              "\n",
              "  <svg xmlns=\"http://www.w3.org/2000/svg\" height=\"24px\" viewBox=\"0 -960 960 960\">\n",
              "    <path d=\"M120-120v-720h720v720H120Zm60-500h600v-160H180v160Zm220 220h160v-160H400v160Zm0 220h160v-160H400v160ZM180-400h160v-160H180v160Zm440 0h160v-160H620v160ZM180-180h160v-160H180v160Zm440 0h160v-160H620v160Z\"/>\n",
              "  </svg>\n",
              "    </button>\n",
              "\n",
              "  <style>\n",
              "    .colab-df-container {\n",
              "      display:flex;\n",
              "      gap: 12px;\n",
              "    }\n",
              "\n",
              "    .colab-df-convert {\n",
              "      background-color: #E8F0FE;\n",
              "      border: none;\n",
              "      border-radius: 50%;\n",
              "      cursor: pointer;\n",
              "      display: none;\n",
              "      fill: #1967D2;\n",
              "      height: 32px;\n",
              "      padding: 0 0 0 0;\n",
              "      width: 32px;\n",
              "    }\n",
              "\n",
              "    .colab-df-convert:hover {\n",
              "      background-color: #E2EBFA;\n",
              "      box-shadow: 0px 1px 2px rgba(60, 64, 67, 0.3), 0px 1px 3px 1px rgba(60, 64, 67, 0.15);\n",
              "      fill: #174EA6;\n",
              "    }\n",
              "\n",
              "    .colab-df-buttons div {\n",
              "      margin-bottom: 4px;\n",
              "    }\n",
              "\n",
              "    [theme=dark] .colab-df-convert {\n",
              "      background-color: #3B4455;\n",
              "      fill: #D2E3FC;\n",
              "    }\n",
              "\n",
              "    [theme=dark] .colab-df-convert:hover {\n",
              "      background-color: #434B5C;\n",
              "      box-shadow: 0px 1px 3px 1px rgba(0, 0, 0, 0.15);\n",
              "      filter: drop-shadow(0px 1px 2px rgba(0, 0, 0, 0.3));\n",
              "      fill: #FFFFFF;\n",
              "    }\n",
              "  </style>\n",
              "\n",
              "    <script>\n",
              "      const buttonEl =\n",
              "        document.querySelector('#df-2308a64d-af99-4eb0-9c46-726f16f93a90 button.colab-df-convert');\n",
              "      buttonEl.style.display =\n",
              "        google.colab.kernel.accessAllowed ? 'block' : 'none';\n",
              "\n",
              "      async function convertToInteractive(key) {\n",
              "        const element = document.querySelector('#df-2308a64d-af99-4eb0-9c46-726f16f93a90');\n",
              "        const dataTable =\n",
              "          await google.colab.kernel.invokeFunction('convertToInteractive',\n",
              "                                                    [key], {});\n",
              "        if (!dataTable) return;\n",
              "\n",
              "        const docLinkHtml = 'Like what you see? Visit the ' +\n",
              "          '<a target=\"_blank\" href=https://colab.research.google.com/notebooks/data_table.ipynb>data table notebook</a>'\n",
              "          + ' to learn more about interactive tables.';\n",
              "        element.innerHTML = '';\n",
              "        dataTable['output_type'] = 'display_data';\n",
              "        await google.colab.output.renderOutput(dataTable, element);\n",
              "        const docLink = document.createElement('div');\n",
              "        docLink.innerHTML = docLinkHtml;\n",
              "        element.appendChild(docLink);\n",
              "      }\n",
              "    </script>\n",
              "  </div>\n",
              "\n",
              "\n",
              "<div id=\"df-539d251a-d708-4efe-aa82-d5816cb9b2fb\">\n",
              "  <button class=\"colab-df-quickchart\" onclick=\"quickchart('df-539d251a-d708-4efe-aa82-d5816cb9b2fb')\"\n",
              "            title=\"Suggest charts\"\n",
              "            style=\"display:none;\">\n",
              "\n",
              "<svg xmlns=\"http://www.w3.org/2000/svg\" height=\"24px\"viewBox=\"0 0 24 24\"\n",
              "     width=\"24px\">\n",
              "    <g>\n",
              "        <path d=\"M19 3H5c-1.1 0-2 .9-2 2v14c0 1.1.9 2 2 2h14c1.1 0 2-.9 2-2V5c0-1.1-.9-2-2-2zM9 17H7v-7h2v7zm4 0h-2V7h2v10zm4 0h-2v-4h2v4z\"/>\n",
              "    </g>\n",
              "</svg>\n",
              "  </button>\n",
              "\n",
              "<style>\n",
              "  .colab-df-quickchart {\n",
              "      --bg-color: #E8F0FE;\n",
              "      --fill-color: #1967D2;\n",
              "      --hover-bg-color: #E2EBFA;\n",
              "      --hover-fill-color: #174EA6;\n",
              "      --disabled-fill-color: #AAA;\n",
              "      --disabled-bg-color: #DDD;\n",
              "  }\n",
              "\n",
              "  [theme=dark] .colab-df-quickchart {\n",
              "      --bg-color: #3B4455;\n",
              "      --fill-color: #D2E3FC;\n",
              "      --hover-bg-color: #434B5C;\n",
              "      --hover-fill-color: #FFFFFF;\n",
              "      --disabled-bg-color: #3B4455;\n",
              "      --disabled-fill-color: #666;\n",
              "  }\n",
              "\n",
              "  .colab-df-quickchart {\n",
              "    background-color: var(--bg-color);\n",
              "    border: none;\n",
              "    border-radius: 50%;\n",
              "    cursor: pointer;\n",
              "    display: none;\n",
              "    fill: var(--fill-color);\n",
              "    height: 32px;\n",
              "    padding: 0;\n",
              "    width: 32px;\n",
              "  }\n",
              "\n",
              "  .colab-df-quickchart:hover {\n",
              "    background-color: var(--hover-bg-color);\n",
              "    box-shadow: 0 1px 2px rgba(60, 64, 67, 0.3), 0 1px 3px 1px rgba(60, 64, 67, 0.15);\n",
              "    fill: var(--button-hover-fill-color);\n",
              "  }\n",
              "\n",
              "  .colab-df-quickchart-complete:disabled,\n",
              "  .colab-df-quickchart-complete:disabled:hover {\n",
              "    background-color: var(--disabled-bg-color);\n",
              "    fill: var(--disabled-fill-color);\n",
              "    box-shadow: none;\n",
              "  }\n",
              "\n",
              "  .colab-df-spinner {\n",
              "    border: 2px solid var(--fill-color);\n",
              "    border-color: transparent;\n",
              "    border-bottom-color: var(--fill-color);\n",
              "    animation:\n",
              "      spin 1s steps(1) infinite;\n",
              "  }\n",
              "\n",
              "  @keyframes spin {\n",
              "    0% {\n",
              "      border-color: transparent;\n",
              "      border-bottom-color: var(--fill-color);\n",
              "      border-left-color: var(--fill-color);\n",
              "    }\n",
              "    20% {\n",
              "      border-color: transparent;\n",
              "      border-left-color: var(--fill-color);\n",
              "      border-top-color: var(--fill-color);\n",
              "    }\n",
              "    30% {\n",
              "      border-color: transparent;\n",
              "      border-left-color: var(--fill-color);\n",
              "      border-top-color: var(--fill-color);\n",
              "      border-right-color: var(--fill-color);\n",
              "    }\n",
              "    40% {\n",
              "      border-color: transparent;\n",
              "      border-right-color: var(--fill-color);\n",
              "      border-top-color: var(--fill-color);\n",
              "    }\n",
              "    60% {\n",
              "      border-color: transparent;\n",
              "      border-right-color: var(--fill-color);\n",
              "    }\n",
              "    80% {\n",
              "      border-color: transparent;\n",
              "      border-right-color: var(--fill-color);\n",
              "      border-bottom-color: var(--fill-color);\n",
              "    }\n",
              "    90% {\n",
              "      border-color: transparent;\n",
              "      border-bottom-color: var(--fill-color);\n",
              "    }\n",
              "  }\n",
              "</style>\n",
              "\n",
              "  <script>\n",
              "    async function quickchart(key) {\n",
              "      const quickchartButtonEl =\n",
              "        document.querySelector('#' + key + ' button');\n",
              "      quickchartButtonEl.disabled = true;  // To prevent multiple clicks.\n",
              "      quickchartButtonEl.classList.add('colab-df-spinner');\n",
              "      try {\n",
              "        const charts = await google.colab.kernel.invokeFunction(\n",
              "            'suggestCharts', [key], {});\n",
              "      } catch (error) {\n",
              "        console.error('Error during call to suggestCharts:', error);\n",
              "      }\n",
              "      quickchartButtonEl.classList.remove('colab-df-spinner');\n",
              "      quickchartButtonEl.classList.add('colab-df-quickchart-complete');\n",
              "    }\n",
              "    (() => {\n",
              "      let quickchartButtonEl =\n",
              "        document.querySelector('#df-539d251a-d708-4efe-aa82-d5816cb9b2fb button');\n",
              "      quickchartButtonEl.style.display =\n",
              "        google.colab.kernel.accessAllowed ? 'block' : 'none';\n",
              "    })();\n",
              "  </script>\n",
              "</div>\n",
              "    </div>\n",
              "  </div>\n"
            ]
          },
          "metadata": {},
          "execution_count": 359
        }
      ]
    },
    {
      "cell_type": "code",
      "source": [
        "dataset.isna().sum()"
      ],
      "metadata": {
        "colab": {
          "base_uri": "https://localhost:8080/"
        },
        "id": "I4cbYKwPHNBS",
        "outputId": "d789bbe2-403a-462f-9542-c935447c9c97"
      },
      "execution_count": 360,
      "outputs": [
        {
          "output_type": "execute_result",
          "data": {
            "text/plain": [
              "TARGET               0\n",
              "DerogCnt             0\n",
              "CollectCnt           0\n",
              "BanruptcyInd         0\n",
              "InqCnt06             0\n",
              "InqTimeLast        188\n",
              "InqFinanceCnt24      0\n",
              "TLTimeFirst          0\n",
              "TLTimeLast           0\n",
              "TLCnt03              0\n",
              "TLCnt12              0\n",
              "TLCnt24              0\n",
              "TLCnt                3\n",
              "TLSum               40\n",
              "TLMaxSum            40\n",
              "TLSatCnt             4\n",
              "TLDel60Cnt           0\n",
              "TLBadCnt24           0\n",
              "TL75UtilCnt         99\n",
              "TL50UtilCnt         99\n",
              "TLBalHCPct          41\n",
              "TLSatPct             4\n",
              "TLDel3060Cnt24       0\n",
              "TLDel90Cnt24         0\n",
              "TLDel60CntAll        0\n",
              "TLOpenPct            3\n",
              "TLBadDerogCnt        0\n",
              "TLDel60Cnt24         0\n",
              "TLOpen24Pct          3\n",
              "dtype: int64"
            ]
          },
          "metadata": {},
          "execution_count": 360
        }
      ]
    },
    {
      "cell_type": "code",
      "source": [
        "dataset = dataset.fillna(dataset.median())"
      ],
      "metadata": {
        "id": "m28d7YnJHZT5"
      },
      "execution_count": 361,
      "outputs": []
    },
    {
      "cell_type": "code",
      "source": [
        "def count_labels(labels):\n",
        "    '''\n",
        "    Calculates the size of each label\n",
        "\n",
        "    Args:\n",
        "        labels (list): Lables 0 and 1 corresponding to non default and default correspondingly\n",
        "    '''\n",
        "    ones = sum(labels)\n",
        "    zeros = len(labels) - ones\n",
        "    print(f'zeros {zeros},  ones {ones}')\n",
        "\n",
        "count_labels(dataset['TARGET'].tolist())"
      ],
      "metadata": {
        "colab": {
          "base_uri": "https://localhost:8080/"
        },
        "id": "NTt5_OFYnzq2",
        "outputId": "e3b831fc-dbd1-4233-f042-bf6c0d6ad186"
      },
      "execution_count": 362,
      "outputs": [
        {
          "output_type": "stream",
          "name": "stdout",
          "text": [
            "zeros 2500,  ones 500\n"
          ]
        }
      ]
    },
    {
      "cell_type": "markdown",
      "source": [
        "**Splitting the data**"
      ],
      "metadata": {
        "id": "4dNXhp6IInrJ"
      }
    },
    {
      "cell_type": "code",
      "source": [
        "x = dataset.iloc[:, 1:].values\n",
        "y = dataset.iloc[:, 0].values"
      ],
      "metadata": {
        "id": "YvNtxnqNIOlL"
      },
      "execution_count": 363,
      "outputs": []
    },
    {
      "cell_type": "code",
      "source": [
        "# # splitting dataset into training and test (in ratio 80:20)\n",
        "\n",
        "def data_split(x, y):\n",
        "    '''\n",
        "    Splits data into train, validation and test\n",
        "\n",
        "    Args:\n",
        "        vectors (np.array): Extracted text in form of vectors\n",
        "        labels (pd.Series): 0s (Research_restriction) and 1s (Access_restriction)\n",
        "\n",
        "    Returns:\n",
        "        train (tuple): Pair of x vectors and y ground truth labels as tuple pairs\n",
        "        validation (tuple): Pair of x vectors and y ground truth labels as tuple pairs\n",
        "        test (tuple): Pair of x vectors and y ground truth labels as tuple pairs\n",
        "\n",
        "    '''\n",
        "\n",
        "    # Split the data into training, validation, and test sets\n",
        "    x_train, x_temp, y_train, y_temp = train_test_split(x, y, test_size=0.2, random_state=1, stratify=y) # allocate 80% of data to trained, the rest to validation and test\n",
        "    x_val, x_test, y_val, y_test = train_test_split(x_temp, y_temp, test_size=0.5, random_state=1) # devide the rest to validation and test data\n",
        "\n",
        "\n",
        "    sc = StandardScaler()\n",
        "\n",
        "    x_train = sc.fit_transform(x_train)\n",
        "    x_val = sc.transform(x_val)\n",
        "    x_test = sc.transform(x_test)\n",
        "\n",
        "    return (x_train, y_train), (x_val, y_val), (x_test, y_test)\n",
        "\n",
        "train, val, test = data_split(x, y)\n",
        "print(train[0].shape, val[0].shape, test[0].shape) # shape of X vectors"
      ],
      "metadata": {
        "id": "kLsEV3piITZZ",
        "colab": {
          "base_uri": "https://localhost:8080/"
        },
        "outputId": "944f9981-d35e-4b83-8587-a3122315d632"
      },
      "execution_count": 364,
      "outputs": [
        {
          "output_type": "stream",
          "name": "stdout",
          "text": [
            "(2400, 28) (300, 28) (300, 28)\n"
          ]
        }
      ]
    },
    {
      "cell_type": "markdown",
      "source": [
        "**Logistic Regression**"
      ],
      "metadata": {
        "id": "nXUW0J_b4WQv"
      }
    },
    {
      "cell_type": "code",
      "source": [
        "def LogisticRegression_Scoring(train, val, test):\n",
        "    '''\n",
        "    Trains the Logistic Regression model.\n",
        "    Prints the model performance with 'Accuracy' and 'F1-score' metrics\n",
        "\n",
        "    Args:\n",
        "        train (np.array): train set\n",
        "        val (np.array): validation set\n",
        "        test (np.array): test set\n",
        "\n",
        "    Returns:\n",
        "        model (class): The trained classification model\n",
        "    '''\n",
        "    model_LR = LogisticRegression(random_state=1)\n",
        "\n",
        "    # Initialize the Random Forest classifier\n",
        "    model_LR = LogisticRegression(random_state=1)\n",
        "\n",
        "    # Train the classifier\n",
        "    model_LR.fit(train[0], train[1]) # tuple[0] = vectors, tuple[1] = integer labels\n",
        "\n",
        "    # Make predictions on validation set\n",
        "    yhat_val = model_LR.predict(val[0])\n",
        "\n",
        "    # Make predictions on test set\n",
        "    yhat_test = model_LR.predict(test[0])\n",
        "\n",
        "    # Evaluate the classifier on validation set with metrics \"Accuracy\" and \"F1-score\"\n",
        "    accuracy_val = accuracy_score(val[1], yhat_val)\n",
        "    f1_val = f1_score(val[1], yhat_val, average='weighted')\n",
        "    print(f\"Validation Accuracy: {accuracy_val}\")\n",
        "    print(f\"Validation F1-score: {f1_val}\")\n",
        "\n",
        "    # Evaluate the classifier on test set with metrics \"Accuracy\" and \"F1-score\"\n",
        "    accuracy_test = accuracy_score(test[1], yhat_test)\n",
        "    f1_test = f1_score(test[1], yhat_test, average='weighted')\n",
        "    print(f\"Test Accuracy: {accuracy_test}\")\n",
        "    print(f\"Test F1-score: {f1_test}\")\n",
        "\n",
        "\n",
        "    return model_LR\n",
        "\n",
        "model_LogisticRegression = LogisticRegression_Scoring(train, val, test)"
      ],
      "metadata": {
        "colab": {
          "base_uri": "https://localhost:8080/"
        },
        "id": "Os6gfDEYt6qb",
        "outputId": "4004ed0e-ee5d-460a-844a-eadc11af7849"
      },
      "execution_count": 365,
      "outputs": [
        {
          "output_type": "stream",
          "name": "stdout",
          "text": [
            "Validation Accuracy: 0.8633333333333333\n",
            "Validation F1-score: 0.8345235560692237\n",
            "Test Accuracy: 0.82\n",
            "Test F1-score: 0.7823759120337067\n"
          ]
        }
      ]
    },
    {
      "cell_type": "markdown",
      "source": [
        "**Support Vector Machines**"
      ],
      "metadata": {
        "id": "c2lQukX-r33u"
      }
    },
    {
      "cell_type": "code",
      "source": [
        "def SVM_Scoring(train, val, test):\n",
        "    '''\n",
        "    Trains the Support Vector Machines model.\n",
        "    Prints the model performance with 'Accuracy' and 'F1-score' metrics\n",
        "\n",
        "    Args:\n",
        "        train (np.array): train set\n",
        "        val (np.array): validation set\n",
        "        test (np.array): test set\n",
        "\n",
        "    Returns:\n",
        "        model (class): The trained classification model\n",
        "    '''\n",
        "\n",
        "    # Initialize the SMV classifier\n",
        "    model_SVC = SVC(random_state=1)\n",
        "\n",
        "    # Train the classifier\n",
        "    model_SVC.fit(train[0], train[1]) # tuple[0] = vectors, tuple[1] = integer labels\n",
        "\n",
        "    # Make predictions on validation set\n",
        "    yhat_val = model_SVC.predict(val[0])\n",
        "\n",
        "    # Make predictions on test set\n",
        "    yhat_test = model_SVC.predict(test[0])\n",
        "\n",
        "    # Evaluate the classifier on validation set with metrics \"Accuracy\" and \"F1-score\"\n",
        "    accuracy_val = accuracy_score(val[1], yhat_val)\n",
        "    f1_val = f1_score(val[1], yhat_val, average='weighted')\n",
        "    print(f\"Validation Accuracy: {accuracy_val}\")\n",
        "    print(f\"Validation F1-score: {f1_val}\")\n",
        "\n",
        "    # Evaluate the classifier on test set with metrics \"Accuracy\" and \"F1-score\"\n",
        "    accuracy_test = accuracy_score(test[1], yhat_test)\n",
        "    f1_test = f1_score(test[1], yhat_test, average='weighted')\n",
        "    print(f\"Test Accuracy: {accuracy_test}\")\n",
        "    print(f\"Test F1-score: {f1_test}\")\n",
        "\n",
        "\n",
        "    return model_SVC\n",
        "\n",
        "model_SVM = SVM_Scoring(train, val, test)"
      ],
      "metadata": {
        "colab": {
          "base_uri": "https://localhost:8080/"
        },
        "id": "G7LN4K6qr2mD",
        "outputId": "4dbb8098-843d-407a-dd40-bc614cbadf59"
      },
      "execution_count": 366,
      "outputs": [
        {
          "output_type": "stream",
          "name": "stdout",
          "text": [
            "Validation Accuracy: 0.85\n",
            "Validation F1-score: 0.7928256602096373\n",
            "Test Accuracy: 0.8133333333333334\n",
            "Test F1-score: 0.7386096619586886\n"
          ]
        }
      ]
    },
    {
      "cell_type": "markdown",
      "source": [
        "**Random Forest**"
      ],
      "metadata": {
        "id": "4HOv_L1W4T-C"
      }
    },
    {
      "cell_type": "code",
      "source": [
        "def RandomForest_Scoring(train, val, test):\n",
        "    '''\n",
        "    Trains the Random Forest model.\n",
        "    Prints the model performance with 'Accuracy' and 'F1-score' metrics\n",
        "\n",
        "    Args:\n",
        "        train (np.array): train set\n",
        "        val (np.array): validation set\n",
        "        test (np.array): test set\n",
        "\n",
        "    Returns:\n",
        "        model (class): The trained classification model\n",
        "    '''\n",
        "\n",
        "    # Initialize the Random Forest classifier\n",
        "    model_RF = RandomForestClassifier(random_state=1)\n",
        "\n",
        "    # Train the classifier\n",
        "    model_RF.fit(train[0], train[1]) # tuple[0] = vectors, tuple[1] = integer labels\n",
        "\n",
        "    # Make predictions on validation set\n",
        "    yhat_val = model_RF.predict(val[0])\n",
        "\n",
        "    # Make predictions on test set\n",
        "    yhat_test = model_RF.predict(test[0])\n",
        "\n",
        "    # Evaluate the classifier on validation set with metrics \"Accuracy\" and \"F1-score\"\n",
        "    accuracy_val = accuracy_score(val[1], yhat_val)\n",
        "    f1_val = f1_score(val[1], yhat_val, average='weighted')\n",
        "    print(f\"Validation Accuracy: {accuracy_val}\")\n",
        "    print(f\"Validation F1-score: {f1_val}\\n\")\n",
        "\n",
        "    # Evaluate the classifier on test set with metrics \"Accuracy\" and \"F1-score\"\n",
        "    accuracy_test = accuracy_score(test[1], yhat_test)\n",
        "    f1_test = f1_score(test[1], yhat_test, average='weighted')\n",
        "    print(f\"Test Accuracy: {accuracy_test}\")\n",
        "    print(f\"Test F1-score: {f1_test}\")\n",
        "\n",
        "\n",
        "    return model_RF\n",
        "\n",
        "model_RandomForest = RandomForest_Scoring(train, val, test)"
      ],
      "metadata": {
        "colab": {
          "base_uri": "https://localhost:8080/"
        },
        "id": "f6qOBGAuqM7H",
        "outputId": "6971ac78-6a15-4ded-8d2d-913fca955e3e"
      },
      "execution_count": 367,
      "outputs": [
        {
          "output_type": "stream",
          "name": "stdout",
          "text": [
            "Validation Accuracy: 0.85\n",
            "Validation F1-score: 0.8148908173814969\n",
            "\n",
            "Test Accuracy: 0.8366666666666667\n",
            "Test F1-score: 0.7908422241512886\n"
          ]
        }
      ]
    },
    {
      "cell_type": "markdown",
      "source": [
        "**XG Boost**"
      ],
      "metadata": {
        "id": "-jTNnABp5cAS"
      }
    },
    {
      "cell_type": "code",
      "source": [
        "def XGBoost_Scoring(train_data, val_data, test_data):\n",
        "    '''\n",
        "    Trains the XGBoost model.\n",
        "    Prints the model performance with 'Accuracy' and 'F1-score' metrics\n",
        "\n",
        "    Args:\n",
        "        train_data (np.array): train set\n",
        "        val_data (np.array): validation set\n",
        "        test_data (np.array): test set\n",
        "\n",
        "    Returns:\n",
        "        model (class): The trained classification model\n",
        "    '''\n",
        "\n",
        "    # Initialize the XGBoost classifier\n",
        "    model_XGB = XGBClassifier(random_state=1)\n",
        "\n",
        "    # Train the classifier\n",
        "    model_XGB.fit(train_data[0], train_data[1])  # tuple[0] = vectors, tuple[1] = integer labels\n",
        "\n",
        "    # Make predictions on validation set\n",
        "    yhat_val = model_XGB.predict(val_data[0])\n",
        "\n",
        "    # Make predictions on test set\n",
        "    yhat_test = model_XGB.predict(test_data[0])\n",
        "\n",
        "    # Evaluate the classifier on validation set with metrics \"Accuracy\" and \"F1-score\"\n",
        "    accuracy_val = accuracy_score(val_data[1], yhat_val)\n",
        "    f1_val = f1_score(val_data[1], yhat_val, average='weighted')\n",
        "    print(f\"Validation Accuracy: {accuracy_val}\")\n",
        "    print(f\"Validation F1-score: {f1_val}\\n\")\n",
        "\n",
        "    # Evaluate the classifier on test set with metrics \"Accuracy\" and \"F1-score\"\n",
        "    accuracy_test = accuracy_score(test_data[1], yhat_test)\n",
        "    f1_test = f1_score(test_data[1], yhat_test, average='weighted')\n",
        "    print(f\"Test Accuracy: {accuracy_test}\")\n",
        "    print(f\"Test F1-score: {f1_test}\")\n",
        "\n",
        "    return model_XGB\n",
        "\n",
        "# Assuming you have train, val, and test datasets defined somewhere before this point\n",
        "model_XGBoost = XGBoost_Scoring(train, val, test)"
      ],
      "metadata": {
        "colab": {
          "base_uri": "https://localhost:8080/"
        },
        "id": "xM3On1VV5fo5",
        "outputId": "8d2c5b8b-4ed2-41f3-f65e-c3cc38b09731"
      },
      "execution_count": 368,
      "outputs": [
        {
          "output_type": "stream",
          "name": "stdout",
          "text": [
            "Validation Accuracy: 0.8566666666666667\n",
            "Validation F1-score: 0.8400623019782207\n",
            "\n",
            "Test Accuracy: 0.8233333333333334\n",
            "Test F1-score: 0.7966435928542545\n"
          ]
        }
      ]
    },
    {
      "cell_type": "markdown",
      "source": [
        "**Saving Model**"
      ],
      "metadata": {
        "id": "0gCl1CxowWp1"
      }
    },
    {
      "cell_type": "code",
      "source": [
        "def save_model(model):\n",
        "  # Save the model\n",
        "  joblib.dump(model, './model_RiskScoring.joblib')"
      ],
      "metadata": {
        "id": "E0ECYaZ9su6M"
      },
      "execution_count": 369,
      "outputs": []
    },
    {
      "cell_type": "markdown",
      "source": [
        "**Loading Model**"
      ],
      "metadata": {
        "id": "bfem7XZrwhIe"
      }
    },
    {
      "cell_type": "code",
      "source": [
        "def load_model(model):\n",
        "  # Load the model\n",
        "  model_RiskScoring = joblib.load('./model_RiskScoring.joblib')"
      ],
      "metadata": {
        "id": "voZcU-kYJual"
      },
      "execution_count": 370,
      "outputs": []
    },
    {
      "cell_type": "markdown",
      "source": [
        "**Make predictions**"
      ],
      "metadata": {
        "id": "tz91Uxelwwii"
      }
    },
    {
      "cell_type": "code",
      "source": [
        "def make_prediction(input, model):\n",
        "  # Predictions\n",
        "  input_ = input # some data\n",
        "  new_predictions = model.predict(input_)\n",
        "\n",
        "  print(new_predictions)"
      ],
      "metadata": {
        "id": "8MxFABtGKUcp"
      },
      "execution_count": 371,
      "outputs": []
    },
    {
      "cell_type": "markdown",
      "source": [
        "**---------------------------------------------------------------------- Neural Networks ------------------------------------------------------------------------**"
      ],
      "metadata": {
        "id": "LuJhkAb9xiua"
      }
    },
    {
      "cell_type": "code",
      "source": [
        "import torch\n",
        "import torch.nn as nn\n",
        "import torch.functional as F\n",
        "from torch.utils.data import Dataset, Subset, DataLoader"
      ],
      "metadata": {
        "id": "36wbVcfTLq_4"
      },
      "execution_count": 372,
      "outputs": []
    },
    {
      "cell_type": "code",
      "source": [
        "# Defining our dataset custom module\n",
        "class Scoring_dataset(Dataset):\n",
        "  '''\n",
        "  Custom Dataset representing the Scoring data (transactions and etc)\n",
        "  '''\n",
        "\n",
        "  def __init__(self, data):\n",
        "    \"\"\"\n",
        "    Initializes Dataset instances.\n",
        "    Assigns TARGET for y target variable, the rest for x.\n",
        "    Gets the length of the data\n",
        "\n",
        "    Args:\n",
        "        data (pd.DataFrame): Preprocessed pandas DataFrame\n",
        "    \"\"\"\n",
        "    self.x = torch.tensor(data.drop(columns=['TARGET']).values.tolist())\n",
        "    self.y = torch.tensor(data['TARGET'].values.tolist())\n",
        "    self.len = len(data)\n",
        "\n",
        "  def __getitem__(self, index):\n",
        "    \"\"\"\n",
        "    Gets the exact data points (rows) by given index\n",
        "\n",
        "    Args:\n",
        "        index (integer): Preprocessed pandas DataFrame\n",
        "    Returns:\n",
        "        x (array): Input variable\n",
        "        y (array): target variable\n",
        "    \"\"\"\n",
        "    return self.x[index], self.y[index]\n",
        "\n",
        "  def __len__(self):\n",
        "    \"\"\"\n",
        "    Shows length of the data\n",
        "\n",
        "    Returns:\n",
        "        len (integer): The length of the data\n",
        "\n",
        "    \"\"\"\n",
        "    return self.len\n",
        "\n",
        "# Object of the custom dataset\n",
        "train_cleaned_dataset = Scoring_dataset(dataset)\n",
        "\n",
        "# Splitting the dataset into train and test subsets\n",
        "train_size = int(0.8 * len(train_cleaned_dataset))\n",
        "\n",
        "train_indices = list(range(train_size))\n",
        "test_indices = list(range(train_size, len(train_cleaned_dataset)))\n",
        "\n",
        "train = Subset(train_cleaned_dataset, train_indices)\n",
        "test = Subset(train_cleaned_dataset, test_indices)\n",
        "\n",
        "# Checking the split\n",
        "f'train length: {len(train)} | test_length: {len(test)}'"
      ],
      "metadata": {
        "colab": {
          "base_uri": "https://localhost:8080/",
          "height": 35
        },
        "id": "9nbVzdsDMNL7",
        "outputId": "d37576a0-25b4-43e8-cc60-52ddcc3300ff"
      },
      "execution_count": 373,
      "outputs": [
        {
          "output_type": "execute_result",
          "data": {
            "text/plain": [
              "'train length: 2400 | test_length: 600'"
            ],
            "application/vnd.google.colaboratory.intrinsic+json": {
              "type": "string"
            }
          },
          "metadata": {},
          "execution_count": 373
        }
      ]
    },
    {
      "cell_type": "markdown",
      "source": [
        "**Working with DataLoaders**"
      ],
      "metadata": {
        "id": "oq0ewbhzzVmz"
      }
    },
    {
      "cell_type": "code",
      "source": [
        "train_dataloader = DataLoader(dataset=train, batch_size=256, shuffle=True) # More batch size is a way of avoiding overfitting\n",
        "test_dataloader = DataLoader(dataset=test, batch_size=64) # Still need batch size. Best practices. For instance with LLMs you will run out of memory otherwise"
      ],
      "metadata": {
        "id": "MHLo00Rnl836"
      },
      "execution_count": 374,
      "outputs": []
    },
    {
      "cell_type": "code",
      "source": [
        "# ---  Model --- # Dropout regularization term can be omitted while using batch normalization and vice versa according to some resources. In my practice using both gives better result\n",
        "class Credit_classifier(nn.Module):\n",
        "    '''\n",
        "    Custom Module - model\n",
        "    '''\n",
        "    # Constructor\n",
        "    def __init__(self, Layers, drop_probability = 0.2):\n",
        "        \"\"\"\n",
        "        Initializes the model architecture.\n",
        "        Defines the layers and neurons\n",
        "\n",
        "        Args:\n",
        "            Layers (list): List containing the layers and neurons.\n",
        "            drop_probability (float): The probabily of a neuron to be dropped.\n",
        "        \"\"\"\n",
        "        super(Credit_classifier, self).__init__()\n",
        "        self.bn = []\n",
        "        self.drop = nn.Dropout(p = drop_probability)\n",
        "        self.hidden = nn.ModuleList()\n",
        "        for input_size, output_size in zip(Layers, Layers[1:]):\n",
        "            linear = nn.Linear(input_size, output_size)\n",
        "            torch.nn.init.kaiming_uniform_(linear.weight, nonlinearity = 'relu')\n",
        "            self.hidden.append(linear)\n",
        "            self.bn.append(nn.BatchNorm1d(output_size))\n",
        "\n",
        "    # Prediction\n",
        "    def forward(self, x):\n",
        "        \"\"\"\n",
        "        Calls the model and runs input through the DNN layers up until the final classification layer\n",
        "\n",
        "        Args:\n",
        "            x (tensor): Input variable\n",
        "        Returns:\n",
        "            x (tensor): logits of prediction. The highest value is a class prediciton\n",
        "        \"\"\"\n",
        "        n_layers = len(self.hidden)\n",
        "        for (layer_index, linear_layer) in zip(range(n_layers), self.hidden):\n",
        "            if layer_index < n_layers - 1:\n",
        "                x = torch.relu(self.drop(self.bn[layer_index](linear_layer(x))))\n",
        "            else:\n",
        "                x = linear_layer(x)\n",
        "\n",
        "        return x\n",
        "\n",
        "# Dimension of input variable\n",
        "first_input_size = train[0][0].shape[0]\n",
        "print(f\"The size of the input : {first_input_size}\")\n",
        "\n",
        "# Classifier. 1st argument is a list where you can define the neurons. Entry = layer, value = n of neurons\n",
        "model = Credit_classifier([first_input_size, 5, 7, 5, 2], drop_probability = 0.9)"
      ],
      "metadata": {
        "colab": {
          "base_uri": "https://localhost:8080/"
        },
        "id": "gYqdOCTamH-h",
        "outputId": "48839447-e8a1-40e6-b5df-3b038f472fd8"
      },
      "execution_count": 375,
      "outputs": [
        {
          "output_type": "stream",
          "name": "stdout",
          "text": [
            "The size of the input : 28\n"
          ]
        }
      ]
    },
    {
      "cell_type": "markdown",
      "source": [
        "**Extra - Working with GPU**"
      ],
      "metadata": {
        "id": "jVcX9nVpz0RK"
      }
    },
    {
      "cell_type": "code",
      "source": [
        "'''\n",
        "Usually  we have to work with robust models and datasets.\n",
        "To run them and to fit them onto the system's memory, we have to use GPUs. They allow to deal with the space and time complexity - Big O(n) as an example\n",
        "Though for this project it would be overkill.\n",
        "'''\n",
        "\n",
        "def GPU():\n",
        "  device = torch.device('cuda' if torch.cuda.is_available() else 'cpu')\n",
        "  model = model.to(device)"
      ],
      "metadata": {
        "id": "zUk5yC7TzveD"
      },
      "execution_count": 376,
      "outputs": []
    },
    {
      "cell_type": "markdown",
      "source": [
        "**Training Loop**"
      ],
      "metadata": {
        "id": "xBQ4LFDH0Aks"
      }
    },
    {
      "cell_type": "code",
      "source": [
        "# ---  Training loop ---\n",
        "torch.manual_seed(1) # For getting the same weights initialized each time we run the cell\n",
        "\n",
        "def train(model, train_dataloader, test_dataloader, criterion, optimizer, epochs):\n",
        "    '''\n",
        "    Trains the model by converging the Cost function to 0\n",
        "\n",
        "    Args:\n",
        "        model (custom class object): Classifier\n",
        "        train_dataloader (torch dataloader): Loads train data (batches) saving the memory space\n",
        "        test_dataloader (torch dataloader): Loads test data (batches) saving the memory space\n",
        "        criterion (Cross Entropy Loss): Loss function\n",
        "        optimizer (Adam or SGD): Performs gradient descent and update\n",
        "        epochs (integer): number of periods the model runs\n",
        "    '''\n",
        "    loss_accuracy = {'training_loss' : [], 'validation_accuracy' : []}\n",
        "    Softmax = nn.Softmax(dim = -1)\n",
        "    for epoch in range(epochs):\n",
        "        # Training each epoch\n",
        "        model.train()\n",
        "        for x, y in train_dataloader:\n",
        "            # x = x.to(device) | sending tensors to GPU\n",
        "            # y = y.to(device) | sending tensors to GPU\n",
        "            optimizer.zero_grad()\n",
        "            yhat = model(x)\n",
        "            loss = criterion(yhat, y)\n",
        "            loss_accuracy['training_loss'].append(loss.detach().item())\n",
        "            loss.backward()\n",
        "            optimizer.step()\n",
        "\n",
        "\n",
        "        # Validating the accuracy\n",
        "        model.eval()\n",
        "        correct = 0\n",
        "        for x, y in test_dataloader:\n",
        "            yhat = model(x)\n",
        "            _, label = torch.max(Softmax(yhat), 1)\n",
        "            correct += (label == y).sum().item()\n",
        "        accuracy = 100 * (correct / len(test))\n",
        "        loss_accuracy['validation_accuracy'].append(accuracy)\n",
        "\n",
        "    return loss_accuracy"
      ],
      "metadata": {
        "id": "eMaBk4a1z9ar"
      },
      "execution_count": 377,
      "outputs": []
    },
    {
      "cell_type": "markdown",
      "source": [
        "**Defining the Criterion, optimiser and epochs**"
      ],
      "metadata": {
        "id": "MmYwQp880P5h"
      }
    },
    {
      "cell_type": "code",
      "source": [
        "'''\n",
        "We can also define our own loss function. The formula is given below\n",
        "\n",
        "def criterion(yhat, y):\n",
        "  out = -1 * torch.mean(y * torch.log(yhat) + (1 - y) * torch.log(1-yhat))\n",
        "  return out\n",
        "'''\n",
        "criterion = torch.nn.CrossEntropyLoss() # Loss Function\n",
        "optimizer = torch.optim.Adam(model.parameters(), lr = 0.001) # momentum = 0.9 # Gradient Descent\n",
        "epochs = 27 # n of full walk though the dataset"
      ],
      "metadata": {
        "id": "-tg409Sv0NnC"
      },
      "execution_count": 378,
      "outputs": []
    },
    {
      "cell_type": "markdown",
      "source": [
        "**Training**"
      ],
      "metadata": {
        "id": "o9HteNTT0ZEt"
      }
    },
    {
      "cell_type": "code",
      "source": [
        "# Start training the model\n",
        "training_results = train(model, train_dataloader, test_dataloader, criterion, optimizer, epochs)"
      ],
      "metadata": {
        "id": "oVGOyxHq0V4Z"
      },
      "execution_count": 379,
      "outputs": []
    },
    {
      "cell_type": "markdown",
      "source": [
        "**Visualization**"
      ],
      "metadata": {
        "id": "D8PrEJih0eh5"
      }
    },
    {
      "cell_type": "code",
      "source": [
        "import matplotlib.pyplot as plt\n",
        "import seaborn as sns\n",
        "from matplotlib.ticker import PercentFormatter  # Import PercentFormatter\n",
        "\n",
        "# Set seaborn style\n",
        "sns.set(style=\"whitegrid\")\n",
        "plt.figure(figsize=(12, 6))\n",
        "\n",
        "# --- Plotting the training loss ---\n",
        "plt.subplot(1, 2, 1)\n",
        "x_axis = range(len(training_results['training_loss']))\n",
        "plt.plot(x_axis, training_results['training_loss'], label='Training Loss', color='blue')\n",
        "plt.title('Training Loss Over Iterations')\n",
        "plt.xlabel('Iterations')\n",
        "plt.ylabel('Training Loss')\n",
        "plt.legend()\n",
        "\n",
        "# --- Plotting the validation accuracy ---\n",
        "plt.subplot(1, 2, 2)\n",
        "x_axis = range(len(training_results['validation_accuracy']))\n",
        "plt.plot(x_axis, training_results['validation_accuracy'], label='Validation Accuracy', color='green')\n",
        "plt.title('Validation Accuracy Over Epochs')\n",
        "plt.xlabel('Epochs')\n",
        "plt.ylabel('Validation Accuracy')\n",
        "plt.gca().yaxis.set_major_formatter(PercentFormatter(100))  # Format y-axis as percentage\n",
        "plt.legend()\n",
        "\n",
        "# Adjust layout for better spacing\n",
        "plt.tight_layout()\n",
        "\n",
        "# Show the plots\n",
        "plt.show()"
      ],
      "metadata": {
        "colab": {
          "base_uri": "https://localhost:8080/",
          "height": 601
        },
        "id": "uKa6sdz90bVq",
        "outputId": "e2abec48-3027-461b-d81c-8bfc874eb335"
      },
      "execution_count": 380,
      "outputs": [
        {
          "output_type": "display_data",
          "data": {
            "text/plain": [
              "<Figure size 1200x600 with 2 Axes>"
            ],
            "image/png": "[encoded data removed]"
          },
          "metadata": {}
        }
      ]
    },
    {
      "cell_type": "code",
      "source": [],
      "metadata": {
        "id": "qKETKOZ71F_c"
      },
      "execution_count": 380,
      "outputs": []
    }
  ]
}